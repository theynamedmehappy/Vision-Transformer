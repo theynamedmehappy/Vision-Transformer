{
 "cells": [
  {
   "cell_type": "markdown",
   "id": "2d7e022a",
   "metadata": {},
   "source": [
    "# Import dependencies"
   ]
  },
  {
   "cell_type": "code",
   "execution_count": 1,
   "id": "4734f81f",
   "metadata": {},
   "outputs": [
    {
     "name": "stderr",
     "output_type": "stream",
     "text": [
      "C:\\Users\\Abhishek Garia\\anaconda3\\lib\\site-packages\\tensorflow_addons\\utils\\tfa_eol_msg.py:23: UserWarning: \n",
      "\n",
      "TensorFlow Addons (TFA) has ended development and introduction of new features.\n",
      "TFA has entered a minimal maintenance and release mode until a planned end of life in May 2024.\n",
      "Please modify downstream libraries to take dependencies from other repositories in our TensorFlow community (e.g. Keras, Keras-CV, and Keras-NLP). \n",
      "\n",
      "For more information see: https://github.com/tensorflow/addons/issues/2807 \n",
      "\n",
      "  warnings.warn(\n",
      "C:\\Users\\Abhishek Garia\\anaconda3\\lib\\site-packages\\tensorflow_addons\\utils\\ensure_tf_install.py:53: UserWarning: Tensorflow Addons supports using Python ops for all Tensorflow versions above or equal to 2.12.0 and strictly below 2.15.0 (nightly versions are not supported). \n",
      " The versions of TensorFlow you are currently using is 2.8.0 and is not supported. \n",
      "Some things might work, some things might not.\n",
      "If you were to encounter a bug, do not file an issue.\n",
      "If you want to make sure you're using a tested and supported configuration, either change the TensorFlow version or the TensorFlow Addons's version. \n",
      "You can find the compatibility matrix in TensorFlow Addon's readme:\n",
      "https://github.com/tensorflow/addons\n",
      "  warnings.warn(\n"
     ]
    }
   ],
   "source": [
    "import numpy as np\n",
    "import tensorflow as tf\n",
    "from tensorflow import keras\n",
    "from tensorflow.keras import layers\n",
    "import tensorflow_addons as tfa"
   ]
  },
  {
   "cell_type": "code",
   "execution_count": 2,
   "id": "0faf08e6",
   "metadata": {},
   "outputs": [
    {
     "name": "stdout",
     "output_type": "stream",
     "text": [
      "x_train shape:(50000, 32, 32, 3)- y_train:(50000, 1)\n",
      "x_test shape:(10000, 32, 32, 3)- y_test:(10000, 1)\n"
     ]
    }
   ],
   "source": [
    "num_classes=10\n",
    "input_shape=(32,32,3)\n",
    "\n",
    "(x_train,y_train),(x_test,y_test)=keras.datasets.cifar10.load_data()\n",
    "\n",
    "print(f\"x_train shape:{x_train.shape}- y_train:{y_train.shape}\")\n",
    "print(f\"x_test shape:{x_test.shape}- y_test:{y_test.shape}\")"
   ]
  },
  {
   "cell_type": "code",
   "execution_count": 3,
   "id": "e5cd6220",
   "metadata": {},
   "outputs": [],
   "source": [
    "x_train=x_train[:500]\n",
    "y_train=y_train[:500]\n",
    "x_test=x_test[:500]\n",
    "y_test=y_test[:500]"
   ]
  },
  {
   "cell_type": "markdown",
   "id": "df4807ff",
   "metadata": {},
   "source": [
    "# Hyper parameters"
   ]
  },
  {
   "cell_type": "code",
   "execution_count": 4,
   "id": "d4741bea",
   "metadata": {},
   "outputs": [],
   "source": [
    "learning_rate=0.001\n",
    "weight_decay=0.0001\n",
    "batch_size=256\n",
    "num_epochs=40\n",
    "image_size=72    #resizing the input image\n",
    "patch_size=6     #size of patches to be extracted from the imput layers\n",
    "num_patches=(image_size//patch_size)**2\n",
    "projection_dim=64\n",
    "num_heads=4\n",
    "transformer_units=[projection_dim*2,projection_dim]     #size of the transformer layer\n",
    "transformer_layers=8\n",
    "mlp_head_units=[2048,1024]  #size of the dense layers of the final classifier\n"
   ]
  },
  {
   "cell_type": "markdown",
   "id": "90eb42fd",
   "metadata": {},
   "source": [
    "# Creating vit classifier"
   ]
  },
  {
   "cell_type": "markdown",
   "id": "de3c20f8",
   "metadata": {},
   "source": [
    "data augmentation"
   ]
  },
  {
   "cell_type": "code",
   "execution_count": 5,
   "id": "99b02b00",
   "metadata": {},
   "outputs": [],
   "source": [
    "data_augmentation=keras.Sequential([\n",
    "    layers.Normalization(),\n",
    "    layers.Resizing(image_size,image_size),\n",
    "    layers.RandomFlip(\"horizontal\"),\n",
    "    layers.RandomRotation(factor=0.02),\n",
    "    layers.RandomZoom(height_factor=0.2,width_factor=0.2)\n",
    "],\n",
    "    name=\"data_augmentation\"\n",
    ")\n",
    "data_augmentation.layers[0].adapt(x_train)"
   ]
  },
  {
   "cell_type": "markdown",
   "id": "fb5924f0",
   "metadata": {},
   "source": [
    "mlp architecture"
   ]
  },
  {
   "cell_type": "code",
   "execution_count": 6,
   "id": "68122caa",
   "metadata": {},
   "outputs": [],
   "source": [
    "def mlp(x,hidden_units,dropout_rate):\n",
    "    for units in hidden_units:\n",
    "        x=layers.Dense(units,activation=tf.nn.gelu)(x)\n",
    "        x=layers.Dropout(dropout_rate)(x)\n",
    "    return x"
   ]
  },
  {
   "cell_type": "markdown",
   "id": "6300a663",
   "metadata": {},
   "source": [
    "patches"
   ]
  },
  {
   "cell_type": "code",
   "execution_count": 7,
   "id": "d9e68bde",
   "metadata": {},
   "outputs": [],
   "source": [
    "class Patches(layers.Layer):\n",
    "    def __init__(self,patch_size):\n",
    "        super(Patches,self).__init__()\n",
    "        self.patch_size=patch_size\n",
    "        \n",
    "    def call(self,images):\n",
    "        batch_size=tf.shape(images)[0]\n",
    "        patches = tf.image.extract_patches(images=images,\n",
    "                                           sizes=[1,self.patch_size,self.patch_size,1],\n",
    "                                           strides=[1,self.patch_size,self.patch_size,1],\n",
    "                                           rates=[1,1,1,1],\n",
    "                                           padding=\"VALID\",\n",
    "                                          )\n",
    "        patch_dims=patches.shape[-1]\n",
    "        patches=tf.reshape(patches,[batch_size,-1,patch_dims])\n",
    "        \n",
    "        return patches"
   ]
  },
  {
   "cell_type": "code",
   "execution_count": 8,
   "id": "b2ce2304",
   "metadata": {},
   "outputs": [
    {
     "name": "stdout",
     "output_type": "stream",
     "text": [
      "image size:72 X 72\n",
      "patch size:6 X 6\n",
      "patch per image:144\n",
      "elements per patch:108\n"
     ]
    },
    {
     "data": {
      "image/png": "[encoded data removed]",
      "text/plain": [
       "<Figure size 288x288 with 1 Axes>"
      ]
     },
     "metadata": {
      "needs_background": "light"
     },
     "output_type": "display_data"
    },
    {
     "data": {
      "image/png": "[encoded data removed]",
      "text/plain": [
       "<Figure size 288x288 with 144 Axes>"
      ]
     },
     "metadata": {
      "needs_background": "light"
     },
     "output_type": "display_data"
    }
   ],
   "source": [
    "import matplotlib.pyplot as plt\n",
    "\n",
    "plt.figure(figsize=(4,4))\n",
    "image=x_train[np.random.choice(range(x_train.shape[0]))]\n",
    "plt.imshow(image.astype(\"uint8\"))\n",
    "plt.axis(\"off\")\n",
    "\n",
    "resized_image=tf.image.resize(tf.convert_to_tensor([image]),size=(image_size,image_size))\n",
    "\n",
    "patches=Patches(patch_size)(resized_image)\n",
    "print(f\"image size:{image_size} X {image_size}\")\n",
    "print(f\"patch size:{patch_size} X {patch_size}\")\n",
    "print(f\"patch per image:{patches.shape[1]}\")\n",
    "print(f\"elements per patch:{patches.shape[-1]}\")\n",
    "\n",
    "n=int(np.sqrt(patches.shape[1]))\n",
    "plt.figure(figsize=(4,4))\n",
    "\n",
    "for i, patch in enumerate(patches[0]):\n",
    "    ax=plt.subplot(n,n,i+1)\n",
    "    patch_img=tf.reshape(patch,(patch_size,patch_size,3))\n",
    "    plt.imshow(patch_img.numpy().astype(\"uint8\"))\n",
    "    plt.axis(\"off\")"
   ]
  },
  {
   "cell_type": "code",
   "execution_count": 9,
   "id": "7c6af969",
   "metadata": {},
   "outputs": [],
   "source": [
    "class PatchEncoder(layers.Layer):\n",
    "    def __init__(self,num_patches,projection_dim):\n",
    "        super(PatchEncoder,self).__init__()\n",
    "        self.num_patches=num_patches\n",
    "        self.projection=layers.Dense(units=projection_dim)\n",
    "        self.position_embedding=layers.Embedding(\n",
    "            input_dim=num_patches,output_dim=projection_dim\n",
    "        )\n",
    "    def call(self,patch):\n",
    "        positions=tf.range(start=0,limit=self.num_patches,delta=1)\n",
    "        encoded=self.projection(patch)+self.position_embedding(positions)\n",
    "        return encoded"
   ]
  },
  {
   "cell_type": "markdown",
   "id": "b7f05a4f",
   "metadata": {},
   "source": [
    "creating vit classifier"
   ]
  },
  {
   "cell_type": "code",
   "execution_count": 10,
   "id": "87f38bf5",
   "metadata": {},
   "outputs": [],
   "source": [
    "def create_vit_classifier():\n",
    "    inputs=layers.Input(shape=input_shape)\n",
    "    augmented=data_augmentation(inputs)#augmentation\n",
    "    patches=Patches(patch_size)(augmented)#create patches\n",
    "    encoded_patches=PatchEncoder(num_patches,projection_dim)(patches)#encode pathces\n",
    "    \n",
    "    \n",
    "    #create multiple layers for transformer block\n",
    "    for _ in range(transformer_layers):\n",
    "        #layer normalization1\n",
    "        x1=layers.LayerNormalization(epsilon=1e-6)(encoded_patches)\n",
    "        \n",
    "        #create multihead attention layer\n",
    "        attention_output=layers.MultiHeadAttention(\n",
    "            num_heads=num_heads,key_dim=projection_dim,dropout=0.1\n",
    "        )(x1,x1)\n",
    "    \n",
    "        #skip connecton1\n",
    "        x2=layers.Add()([attention_output,encoded_patches])\n",
    "        \n",
    "        #layer normalization\n",
    "        x3=layers.LayerNormalization(epsilon=1e-6)(x2)\n",
    "        \n",
    "        #mlp\n",
    "        x3=mlp(x3, hidden_units=transformer_units,dropout_rate=0.1)\n",
    "        \n",
    "        #skip connection 2\n",
    "        encoded_patches=layers.Add()([x3,x2])\n",
    "        \n",
    "    #create a batchsize and projectiondim tensor\n",
    "    \n",
    "    representation=layers.LayerNormalization(epsilon=1e-6)(encoded_patches)\n",
    "    representation=layers.Flatten()(representation)\n",
    "    representation=layers.Dropout(0.5)(representation)\n",
    "    \n",
    "    #add mlp\n",
    "    features=mlp(representation,hidden_units=mlp_head_units,dropout_rate=0.5)\n",
    "    \n",
    "    #classify outputs\n",
    "    logits=layers.Dense(num_classes)(features)\n",
    "    \n",
    "    #create keras model\n",
    "    \n",
    "    model=keras.Model(inputs=inputs,outputs=logits)\n",
    "    return model"
   ]
  },
  {
   "cell_type": "markdown",
   "id": "db45a007",
   "metadata": {},
   "source": [
    "# Training the model"
   ]
  },
  {
   "cell_type": "code",
   "execution_count": 11,
   "id": "293c9cfa",
   "metadata": {},
   "outputs": [],
   "source": [
    "def run_experiment(model):\n",
    "    optimizer=tfa.optimizers.AdamW(\n",
    "        learning_rate=learning_rate,weight_decay=weight_decay\n",
    "    \n",
    "    )\n",
    "    \n",
    "    model.compile(\n",
    "        optimizer=optimizer,\n",
    "        loss=keras.losses.SparseCategoricalCrossentropy(from_logits=True),\n",
    "        metrics=[\n",
    "            keras.metrics.SparseCategoricalAccuracy(name=\"accuracy\"),\n",
    "            keras.metrics.SparseTopKCategoricalAccuracy(5,name=\"top_5_accuracy\"),\n",
    "        ],\n",
    "    )\n",
    "    \n",
    "    checkpoint_filepath=\"./tmp/checkpoint\"\n",
    "    checkpoint_callback=keras.callbacks.ModelCheckpoint(\n",
    "        checkpoint_filepath,\n",
    "        monitor=\"val_accuracy\",\n",
    "        save_best_only=True,\n",
    "        save_weight_only=True,\n",
    "    )\n",
    "    \n",
    "    history=model.fit(\n",
    "        x=x_train,\n",
    "        y=y_train,\n",
    "        batch_size=batch_size,\n",
    "        epochs=num_epochs,\n",
    "        validation_split=0.1,\n",
    "        callbacks=[checkpoint_callback],\n",
    "    )\n",
    "    \n",
    "    \n",
    "    model.load_weights(checkpoint_filepath)\n",
    "    _,accuracy,top_5_accuracy=model.evaluate(x_test,y_test)\n",
    "    print(f\"test accuracy:{round(accuracy*100,2)}%\")\n",
    "    print(f\"top 5 accuracy:{round(top_5_accuracy*100,2)}%\")"
   ]
  },
  {
   "cell_type": "code",
   "execution_count": 12,
   "id": "26dbbc8e",
   "metadata": {},
   "outputs": [
    {
     "name": "stdout",
     "output_type": "stream",
     "text": [
      "Epoch 1/40\n",
      "2/2 [==============================] - ETA: 0s - loss: 5.9292 - accuracy: 0.1022 - top_5_accuracy: 0.5267 "
     ]
    },
    {
     "name": "stderr",
     "output_type": "stream",
     "text": [
      "WARNING:absl:Found untraced functions such as dense_layer_call_fn, dense_layer_call_and_return_conditional_losses, embedding_layer_call_fn, embedding_layer_call_and_return_conditional_losses, query_layer_call_fn while saving (showing 5 of 100). These functions will not be directly callable after loading.\n"
     ]
    },
    {
     "name": "stdout",
     "output_type": "stream",
     "text": [
      "INFO:tensorflow:Assets written to: ./tmp\\checkpoint\\assets\n"
     ]
    },
    {
     "name": "stderr",
     "output_type": "stream",
     "text": [
      "INFO:tensorflow:Assets written to: ./tmp\\checkpoint\\assets\n"
     ]
    },
    {
     "name": "stdout",
     "output_type": "stream",
     "text": [
      "2/2 [==============================] - 36s 17s/step - loss: 5.9292 - accuracy: 0.1022 - top_5_accuracy: 0.5267 - val_loss: 5.5125 - val_accuracy: 0.1800 - val_top_5_accuracy: 0.5600\n",
      "Epoch 2/40\n",
      "2/2 [==============================] - ETA: 0s - loss: 5.7494 - accuracy: 0.1867 - top_5_accuracy: 0.6467"
     ]
    },
    {
     "name": "stderr",
     "output_type": "stream",
     "text": [
      "WARNING:absl:Found untraced functions such as dense_layer_call_fn, dense_layer_call_and_return_conditional_losses, embedding_layer_call_fn, embedding_layer_call_and_return_conditional_losses, query_layer_call_fn while saving (showing 5 of 100). These functions will not be directly callable after loading.\n"
     ]
    },
    {
     "name": "stdout",
     "output_type": "stream",
     "text": [
      "INFO:tensorflow:Assets written to: ./tmp\\checkpoint\\assets\n"
     ]
    },
    {
     "name": "stderr",
     "output_type": "stream",
     "text": [
      "INFO:tensorflow:Assets written to: ./tmp\\checkpoint\\assets\n"
     ]
    },
    {
     "name": "stdout",
     "output_type": "stream",
     "text": [
      "2/2 [==============================] - 22s 16s/step - loss: 5.7494 - accuracy: 0.1867 - top_5_accuracy: 0.6467 - val_loss: 3.6988 - val_accuracy: 0.2600 - val_top_5_accuracy: 0.5800\n",
      "Epoch 3/40\n",
      "2/2 [==============================] - 14s 7s/step - loss: 4.3187 - accuracy: 0.2267 - top_5_accuracy: 0.6733 - val_loss: 2.4394 - val_accuracy: 0.1600 - val_top_5_accuracy: 0.6800\n",
      "Epoch 4/40\n",
      "2/2 [==============================] - 14s 6s/step - loss: 3.0905 - accuracy: 0.2156 - top_5_accuracy: 0.7089 - val_loss: 2.4017 - val_accuracy: 0.1600 - val_top_5_accuracy: 0.6200\n",
      "Epoch 5/40\n",
      "2/2 [==============================] - 13s 6s/step - loss: 2.7293 - accuracy: 0.1978 - top_5_accuracy: 0.6956 - val_loss: 2.1241 - val_accuracy: 0.2400 - val_top_5_accuracy: 0.6800\n",
      "Epoch 6/40\n",
      "2/2 [==============================] - 13s 6s/step - loss: 2.4190 - accuracy: 0.2356 - top_5_accuracy: 0.7133 - val_loss: 2.0519 - val_accuracy: 0.1800 - val_top_5_accuracy: 0.7800\n",
      "Epoch 7/40\n",
      "2/2 [==============================] - 13s 6s/step - loss: 2.3771 - accuracy: 0.2578 - top_5_accuracy: 0.7333 - val_loss: 1.9679 - val_accuracy: 0.1800 - val_top_5_accuracy: 0.8200\n",
      "Epoch 8/40\n",
      "2/2 [==============================] - 13s 6s/step - loss: 2.2020 - accuracy: 0.2689 - top_5_accuracy: 0.7978 - val_loss: 1.9275 - val_accuracy: 0.1800 - val_top_5_accuracy: 0.8200\n",
      "Epoch 9/40\n",
      "2/2 [==============================] - 13s 6s/step - loss: 2.1392 - accuracy: 0.3311 - top_5_accuracy: 0.8022 - val_loss: 1.8857 - val_accuracy: 0.2400 - val_top_5_accuracy: 0.8600\n",
      "Epoch 10/40\n",
      "2/2 [==============================] - ETA: 0s - loss: 1.9524 - accuracy: 0.3400 - top_5_accuracy: 0.8422"
     ]
    },
    {
     "name": "stderr",
     "output_type": "stream",
     "text": [
      "WARNING:absl:Found untraced functions such as dense_layer_call_fn, dense_layer_call_and_return_conditional_losses, embedding_layer_call_fn, embedding_layer_call_and_return_conditional_losses, query_layer_call_fn while saving (showing 5 of 100). These functions will not be directly callable after loading.\n"
     ]
    },
    {
     "name": "stdout",
     "output_type": "stream",
     "text": [
      "INFO:tensorflow:Assets written to: ./tmp\\checkpoint\\assets\n"
     ]
    },
    {
     "name": "stderr",
     "output_type": "stream",
     "text": [
      "INFO:tensorflow:Assets written to: ./tmp\\checkpoint\\assets\n"
     ]
    },
    {
     "name": "stdout",
     "output_type": "stream",
     "text": [
      "2/2 [==============================] - 25s 18s/step - loss: 1.9524 - accuracy: 0.3400 - top_5_accuracy: 0.8422 - val_loss: 1.8173 - val_accuracy: 0.2800 - val_top_5_accuracy: 0.8400\n",
      "Epoch 11/40\n",
      "2/2 [==============================] - 14s 6s/step - loss: 2.1030 - accuracy: 0.2956 - top_5_accuracy: 0.7867 - val_loss: 1.8361 - val_accuracy: 0.2000 - val_top_5_accuracy: 0.8600\n",
      "Epoch 12/40\n",
      "2/2 [==============================] - 14s 6s/step - loss: 1.8504 - accuracy: 0.3600 - top_5_accuracy: 0.8444 - val_loss: 1.8386 - val_accuracy: 0.2200 - val_top_5_accuracy: 0.8600\n",
      "Epoch 13/40\n",
      "2/2 [==============================] - 14s 6s/step - loss: 1.8888 - accuracy: 0.3578 - top_5_accuracy: 0.8289 - val_loss: 1.8003 - val_accuracy: 0.2600 - val_top_5_accuracy: 0.8600\n",
      "Epoch 14/40\n",
      "2/2 [==============================] - 14s 6s/step - loss: 1.7967 - accuracy: 0.3844 - top_5_accuracy: 0.8622 - val_loss: 1.8403 - val_accuracy: 0.2800 - val_top_5_accuracy: 0.8600\n",
      "Epoch 15/40\n",
      "2/2 [==============================] - 14s 6s/step - loss: 1.7061 - accuracy: 0.4156 - top_5_accuracy: 0.8756 - val_loss: 1.8804 - val_accuracy: 0.2200 - val_top_5_accuracy: 0.8200\n",
      "Epoch 16/40\n",
      "2/2 [==============================] - 14s 6s/step - loss: 1.6287 - accuracy: 0.4400 - top_5_accuracy: 0.8978 - val_loss: 1.9096 - val_accuracy: 0.1600 - val_top_5_accuracy: 0.8000\n",
      "Epoch 17/40\n",
      "2/2 [==============================] - 14s 6s/step - loss: 1.6082 - accuracy: 0.4489 - top_5_accuracy: 0.8978 - val_loss: 1.9367 - val_accuracy: 0.2200 - val_top_5_accuracy: 0.8200\n",
      "Epoch 18/40\n",
      "2/2 [==============================] - 14s 6s/step - loss: 1.4881 - accuracy: 0.4956 - top_5_accuracy: 0.9067 - val_loss: 1.9684 - val_accuracy: 0.1800 - val_top_5_accuracy: 0.8000\n",
      "Epoch 19/40\n",
      "2/2 [==============================] - 14s 6s/step - loss: 1.5870 - accuracy: 0.4711 - top_5_accuracy: 0.8978 - val_loss: 1.9875 - val_accuracy: 0.1800 - val_top_5_accuracy: 0.8200\n",
      "Epoch 20/40\n",
      "2/2 [==============================] - 14s 6s/step - loss: 1.4925 - accuracy: 0.4867 - top_5_accuracy: 0.9111 - val_loss: 2.0105 - val_accuracy: 0.2000 - val_top_5_accuracy: 0.8200\n",
      "Epoch 21/40\n",
      "2/2 [==============================] - 14s 6s/step - loss: 1.5456 - accuracy: 0.4644 - top_5_accuracy: 0.9156 - val_loss: 1.9999 - val_accuracy: 0.2000 - val_top_5_accuracy: 0.7800\n",
      "Epoch 22/40\n",
      "2/2 [==============================] - 14s 6s/step - loss: 1.4365 - accuracy: 0.5089 - top_5_accuracy: 0.9178 - val_loss: 2.0199 - val_accuracy: 0.2200 - val_top_5_accuracy: 0.7800\n",
      "Epoch 23/40\n",
      "2/2 [==============================] - 14s 6s/step - loss: 1.3436 - accuracy: 0.5222 - top_5_accuracy: 0.9244 - val_loss: 1.9570 - val_accuracy: 0.2200 - val_top_5_accuracy: 0.7600\n",
      "Epoch 24/40\n",
      "2/2 [==============================] - 14s 6s/step - loss: 1.3427 - accuracy: 0.5067 - top_5_accuracy: 0.9244 - val_loss: 1.9345 - val_accuracy: 0.2000 - val_top_5_accuracy: 0.7600\n",
      "Epoch 25/40\n",
      "2/2 [==============================] - 14s 6s/step - loss: 1.2969 - accuracy: 0.5600 - top_5_accuracy: 0.9533 - val_loss: 1.9723 - val_accuracy: 0.2200 - val_top_5_accuracy: 0.8000\n",
      "Epoch 26/40\n",
      "2/2 [==============================] - 14s 6s/step - loss: 1.2842 - accuracy: 0.5600 - top_5_accuracy: 0.9578 - val_loss: 1.9606 - val_accuracy: 0.2400 - val_top_5_accuracy: 0.8200\n",
      "Epoch 27/40\n",
      "2/2 [==============================] - 14s 6s/step - loss: 1.2419 - accuracy: 0.5533 - top_5_accuracy: 0.9644 - val_loss: 2.0112 - val_accuracy: 0.2400 - val_top_5_accuracy: 0.8400\n",
      "Epoch 28/40\n",
      "2/2 [==============================] - 14s 6s/step - loss: 1.1963 - accuracy: 0.6000 - top_5_accuracy: 0.9556 - val_loss: 2.1123 - val_accuracy: 0.2600 - val_top_5_accuracy: 0.8400\n",
      "Epoch 29/40\n",
      "2/2 [==============================] - 14s 6s/step - loss: 1.1111 - accuracy: 0.6044 - top_5_accuracy: 0.9644 - val_loss: 2.1433 - val_accuracy: 0.2800 - val_top_5_accuracy: 0.8400\n",
      "Epoch 30/40\n",
      "2/2 [==============================] - 14s 6s/step - loss: 1.0621 - accuracy: 0.6333 - top_5_accuracy: 0.9822 - val_loss: 2.1758 - val_accuracy: 0.2600 - val_top_5_accuracy: 0.8600\n",
      "Epoch 31/40\n",
      "2/2 [==============================] - 14s 6s/step - loss: 1.0821 - accuracy: 0.5956 - top_5_accuracy: 0.9689 - val_loss: 2.2079 - val_accuracy: 0.2600 - val_top_5_accuracy: 0.8600\n",
      "Epoch 32/40\n",
      "2/2 [==============================] - 14s 6s/step - loss: 0.9478 - accuracy: 0.6622 - top_5_accuracy: 0.9778 - val_loss: 2.1674 - val_accuracy: 0.2800 - val_top_5_accuracy: 0.8600\n",
      "Epoch 33/40\n",
      "2/2 [==============================] - 14s 6s/step - loss: 1.0199 - accuracy: 0.6356 - top_5_accuracy: 0.9578 - val_loss: 2.1606 - val_accuracy: 0.2600 - val_top_5_accuracy: 0.8200\n",
      "Epoch 34/40\n",
      "2/2 [==============================] - ETA: 0s - loss: 0.9500 - accuracy: 0.7000 - top_5_accuracy: 0.9667"
     ]
    },
    {
     "name": "stderr",
     "output_type": "stream",
     "text": [
      "WARNING:absl:Found untraced functions such as dense_layer_call_fn, dense_layer_call_and_return_conditional_losses, embedding_layer_call_fn, embedding_layer_call_and_return_conditional_losses, query_layer_call_fn while saving (showing 5 of 100). These functions will not be directly callable after loading.\n"
     ]
    },
    {
     "name": "stdout",
     "output_type": "stream",
     "text": [
      "INFO:tensorflow:Assets written to: ./tmp\\checkpoint\\assets\n"
     ]
    },
    {
     "name": "stderr",
     "output_type": "stream",
     "text": [
      "INFO:tensorflow:Assets written to: ./tmp\\checkpoint\\assets\n"
     ]
    },
    {
     "name": "stdout",
     "output_type": "stream",
     "text": [
      "2/2 [==============================] - 26s 19s/step - loss: 0.9500 - accuracy: 0.7000 - top_5_accuracy: 0.9667 - val_loss: 2.2131 - val_accuracy: 0.3000 - val_top_5_accuracy: 0.8200\n",
      "Epoch 35/40\n",
      "2/2 [==============================] - 14s 6s/step - loss: 0.8575 - accuracy: 0.6733 - top_5_accuracy: 0.9822 - val_loss: 2.2237 - val_accuracy: 0.3000 - val_top_5_accuracy: 0.8600\n",
      "Epoch 36/40\n",
      "2/2 [==============================] - 14s 6s/step - loss: 0.8779 - accuracy: 0.7044 - top_5_accuracy: 0.9844 - val_loss: 2.2797 - val_accuracy: 0.2800 - val_top_5_accuracy: 0.8600\n",
      "Epoch 37/40\n",
      "2/2 [==============================] - 14s 6s/step - loss: 0.8119 - accuracy: 0.6911 - top_5_accuracy: 0.9889 - val_loss: 2.4308 - val_accuracy: 0.2800 - val_top_5_accuracy: 0.8400\n",
      "Epoch 38/40\n",
      "2/2 [==============================] - 14s 6s/step - loss: 0.8455 - accuracy: 0.6867 - top_5_accuracy: 0.9911 - val_loss: 2.4960 - val_accuracy: 0.2800 - val_top_5_accuracy: 0.8400\n",
      "Epoch 39/40\n",
      "2/2 [==============================] - 14s 6s/step - loss: 0.7546 - accuracy: 0.7333 - top_5_accuracy: 0.9911 - val_loss: 2.5375 - val_accuracy: 0.2600 - val_top_5_accuracy: 0.8000\n",
      "Epoch 40/40\n",
      "2/2 [==============================] - 14s 7s/step - loss: 0.7922 - accuracy: 0.7200 - top_5_accuracy: 0.9889 - val_loss: 2.4711 - val_accuracy: 0.2800 - val_top_5_accuracy: 0.8400\n",
      "16/16 [==============================] - 5s 301ms/step - loss: 2.2577 - accuracy: 0.3380 - top_5_accuracy: 0.8260\n",
      "test accuracy:33.8%\n",
      "top 5 accuracy:82.6%\n"
     ]
    }
   ],
   "source": [
    "vit_classifier=create_vit_classifier()\n",
    "history=run_experiment(vit_classifier)"
   ]
  },
  {
   "cell_type": "markdown",
   "id": "a9e9eaf6",
   "metadata": {},
   "source": [
    "# Evaluation"
   ]
  },
  {
   "cell_type": "code",
   "execution_count": 13,
   "id": "5cd57f3a",
   "metadata": {},
   "outputs": [],
   "source": [
    "class_names=['airplane','automobile','bird','cat','deer','dog','frog','horse','ship','truck']"
   ]
  },
  {
   "cell_type": "code",
   "execution_count": 14,
   "id": "cba3e507",
   "metadata": {},
   "outputs": [],
   "source": [
    "def image_predict(images,model):\n",
    "    if len(images.shape)==3:\n",
    "        out=model.predict(images.reshape(-1,*images.shape))\n",
    "        \n",
    "    else:\n",
    "        out=model.predict(images)\n",
    "    prediction=np.argmax(out,axis=1)\n",
    "    img_prediction=[class_names[i] for i in prediction]\n",
    "    return img_prediction"
   ]
  },
  {
   "cell_type": "code",
   "execution_count": 26,
   "id": "38fadd18",
   "metadata": {},
   "outputs": [
    {
     "name": "stdout",
     "output_type": "stream",
     "text": [
      "['dog']\n"
     ]
    },
    {
     "data": {
      "image/png": "[encoded data removed]",
      "text/plain": [
       "<Figure size 432x288 with 1 Axes>"
      ]
     },
     "metadata": {
      "needs_background": "light"
     },
     "output_type": "display_data"
    }
   ],
   "source": [
    "import random\n",
    "\n",
    "\n",
    "index=random.randint(0, 20)\n",
    "plt.imshow(x_test[index])\n",
    "prediction=image_predict(x_test[index],vit_classifier)\n",
    "print(prediction)"
   ]
  },
  {
   "cell_type": "code",
   "execution_count": null,
   "id": "4ab5c6c6",
   "metadata": {},
   "outputs": [],
   "source": []
  }
 ],
 "metadata": {
  "kernelspec": {
   "display_name": "Python 3 (ipykernel)",
   "language": "python",
   "name": "python3"
  },
  "language_info": {
   "codemirror_mode": {
    "name": "ipython",
    "version": 3
   },
   "file_extension": ".py",
   "mimetype": "text/x-python",
   "name": "python",
   "nbconvert_exporter": "python",
   "pygments_lexer": "ipython3",
   "version": "3.9.7"
  }
 },
 "nbformat": 4,
 "nbformat_minor": 5
}
